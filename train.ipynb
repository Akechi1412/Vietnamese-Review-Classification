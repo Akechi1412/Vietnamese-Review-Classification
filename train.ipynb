{
  "cells": [
    {
      "cell_type": "markdown",
      "metadata": {
        "id": "view-in-github",
        "colab_type": "text"
      },
      "source": [
        "<a href=\"https://colab.research.google.com/github/Akechi1412/Vietnamese-Review-Classification/blob/master/train.ipynb\" target=\"_parent\"><img src=\"https://colab.research.google.com/assets/colab-badge.svg\" alt=\"Open In Colab\"/></a>"
      ]
    },
    {
      "cell_type": "markdown",
      "source": [
        "Tải thư viện pyvi và spcy để tách từ tiếng Việt."
      ],
      "metadata": {
        "id": "HZs6ZTjtflyM"
      }
    },
    {
      "cell_type": "code",
      "source": [
        "!pip install pyvi https://gitlab.com/trungtv/vi_spacy/-/raw/master/packages/vi_core_news_lg-3.6.0/dist/vi_core_news_lg-3.6.0.tar.gz"
      ],
      "metadata": {
        "id": "mCWLEC0kIO1a",
        "outputId": "c144aebe-dd7b-42b7-e54a-a3f00237e1d4",
        "colab": {
          "base_uri": "https://localhost:8080/"
        }
      },
      "execution_count": 1,
      "outputs": [
        {
          "output_type": "stream",
          "name": "stdout",
          "text": [
            "Collecting https://gitlab.com/trungtv/vi_spacy/-/raw/master/packages/vi_core_news_lg-3.6.0/dist/vi_core_news_lg-3.6.0.tar.gz\n",
            "  Downloading https://gitlab.com/trungtv/vi_spacy/-/raw/master/packages/vi_core_news_lg-3.6.0/dist/vi_core_news_lg-3.6.0.tar.gz (233.3 MB)\n",
            "\u001b[2K     \u001b[90m━━━━━━━━━━━━━━━━━━━━━━━━━━━━━━━━━━━━━━━━\u001b[0m \u001b[32m233.3/233.3 MB\u001b[0m \u001b[31m2.6 MB/s\u001b[0m eta \u001b[36m0:00:00\u001b[0m\n",
            "\u001b[?25h  Preparing metadata (setup.py) ... \u001b[?25l\u001b[?25hdone\n",
            "Collecting pyvi\n",
            "  Downloading pyvi-0.1.1-py2.py3-none-any.whl (8.5 MB)\n",
            "\u001b[2K     \u001b[90m━━━━━━━━━━━━━━━━━━━━━━━━━━━━━━━━━━━━━━━━\u001b[0m \u001b[32m8.5/8.5 MB\u001b[0m \u001b[31m14.3 MB/s\u001b[0m eta \u001b[36m0:00:00\u001b[0m\n",
            "\u001b[?25hRequirement already satisfied: scikit-learn in /usr/local/lib/python3.10/dist-packages (from pyvi) (1.2.2)\n",
            "Collecting sklearn-crfsuite (from pyvi)\n",
            "  Downloading sklearn_crfsuite-0.3.6-py2.py3-none-any.whl (12 kB)\n",
            "Collecting spacy<3.7.0,>=3.6.0 (from vi-core-news-lg==3.6.0)\n",
            "  Downloading spacy-3.6.1-cp310-cp310-manylinux_2_17_x86_64.manylinux2014_x86_64.whl (6.6 MB)\n",
            "\u001b[2K     \u001b[90m━━━━━━━━━━━━━━━━━━━━━━━━━━━━━━━━━━━━━━━━\u001b[0m \u001b[32m6.6/6.6 MB\u001b[0m \u001b[31m17.8 MB/s\u001b[0m eta \u001b[36m0:00:00\u001b[0m\n",
            "\u001b[?25hRequirement already satisfied: spacy-legacy<3.1.0,>=3.0.11 in /usr/local/lib/python3.10/dist-packages (from spacy<3.7.0,>=3.6.0->vi-core-news-lg==3.6.0) (3.0.12)\n",
            "Requirement already satisfied: spacy-loggers<2.0.0,>=1.0.0 in /usr/local/lib/python3.10/dist-packages (from spacy<3.7.0,>=3.6.0->vi-core-news-lg==3.6.0) (1.0.5)\n",
            "Requirement already satisfied: murmurhash<1.1.0,>=0.28.0 in /usr/local/lib/python3.10/dist-packages (from spacy<3.7.0,>=3.6.0->vi-core-news-lg==3.6.0) (1.0.10)\n",
            "Requirement already satisfied: cymem<2.1.0,>=2.0.2 in /usr/local/lib/python3.10/dist-packages (from spacy<3.7.0,>=3.6.0->vi-core-news-lg==3.6.0) (2.0.8)\n",
            "Requirement already satisfied: preshed<3.1.0,>=3.0.2 in /usr/local/lib/python3.10/dist-packages (from spacy<3.7.0,>=3.6.0->vi-core-news-lg==3.6.0) (3.0.9)\n",
            "Collecting thinc<8.2.0,>=8.1.8 (from spacy<3.7.0,>=3.6.0->vi-core-news-lg==3.6.0)\n",
            "  Downloading thinc-8.1.12-cp310-cp310-manylinux_2_17_x86_64.manylinux2014_x86_64.whl (919 kB)\n",
            "\u001b[2K     \u001b[90m━━━━━━━━━━━━━━━━━━━━━━━━━━━━━━━━━━━━━━━━\u001b[0m \u001b[32m919.6/919.6 kB\u001b[0m \u001b[31m25.3 MB/s\u001b[0m eta \u001b[36m0:00:00\u001b[0m\n",
            "\u001b[?25hRequirement already satisfied: wasabi<1.2.0,>=0.9.1 in /usr/local/lib/python3.10/dist-packages (from spacy<3.7.0,>=3.6.0->vi-core-news-lg==3.6.0) (1.1.2)\n",
            "Requirement already satisfied: srsly<3.0.0,>=2.4.3 in /usr/local/lib/python3.10/dist-packages (from spacy<3.7.0,>=3.6.0->vi-core-news-lg==3.6.0) (2.4.8)\n",
            "Requirement already satisfied: catalogue<2.1.0,>=2.0.6 in /usr/local/lib/python3.10/dist-packages (from spacy<3.7.0,>=3.6.0->vi-core-news-lg==3.6.0) (2.0.10)\n",
            "Requirement already satisfied: typer<0.10.0,>=0.3.0 in /usr/local/lib/python3.10/dist-packages (from spacy<3.7.0,>=3.6.0->vi-core-news-lg==3.6.0) (0.9.4)\n",
            "Collecting pathy>=0.10.0 (from spacy<3.7.0,>=3.6.0->vi-core-news-lg==3.6.0)\n",
            "  Downloading pathy-0.11.0-py3-none-any.whl (47 kB)\n",
            "\u001b[2K     \u001b[90m━━━━━━━━━━━━━━━━━━━━━━━━━━━━━━━━━━━━━━━━\u001b[0m \u001b[32m47.3/47.3 kB\u001b[0m \u001b[31m2.7 MB/s\u001b[0m eta \u001b[36m0:00:00\u001b[0m\n",
            "\u001b[?25hRequirement already satisfied: smart-open<7.0.0,>=5.2.1 in /usr/local/lib/python3.10/dist-packages (from spacy<3.7.0,>=3.6.0->vi-core-news-lg==3.6.0) (6.4.0)\n",
            "Requirement already satisfied: tqdm<5.0.0,>=4.38.0 in /usr/local/lib/python3.10/dist-packages (from spacy<3.7.0,>=3.6.0->vi-core-news-lg==3.6.0) (4.66.2)\n",
            "Requirement already satisfied: numpy>=1.15.0 in /usr/local/lib/python3.10/dist-packages (from spacy<3.7.0,>=3.6.0->vi-core-news-lg==3.6.0) (1.25.2)\n",
            "Requirement already satisfied: requests<3.0.0,>=2.13.0 in /usr/local/lib/python3.10/dist-packages (from spacy<3.7.0,>=3.6.0->vi-core-news-lg==3.6.0) (2.31.0)\n",
            "Requirement already satisfied: pydantic!=1.8,!=1.8.1,<3.0.0,>=1.7.4 in /usr/local/lib/python3.10/dist-packages (from spacy<3.7.0,>=3.6.0->vi-core-news-lg==3.6.0) (2.7.0)\n",
            "Requirement already satisfied: jinja2 in /usr/local/lib/python3.10/dist-packages (from spacy<3.7.0,>=3.6.0->vi-core-news-lg==3.6.0) (3.1.3)\n",
            "Requirement already satisfied: setuptools in /usr/local/lib/python3.10/dist-packages (from spacy<3.7.0,>=3.6.0->vi-core-news-lg==3.6.0) (67.7.2)\n",
            "Requirement already satisfied: packaging>=20.0 in /usr/local/lib/python3.10/dist-packages (from spacy<3.7.0,>=3.6.0->vi-core-news-lg==3.6.0) (24.0)\n",
            "Requirement already satisfied: langcodes<4.0.0,>=3.2.0 in /usr/local/lib/python3.10/dist-packages (from spacy<3.7.0,>=3.6.0->vi-core-news-lg==3.6.0) (3.3.0)\n",
            "Requirement already satisfied: scipy>=1.3.2 in /usr/local/lib/python3.10/dist-packages (from scikit-learn->pyvi) (1.11.4)\n",
            "Requirement already satisfied: joblib>=1.1.1 in /usr/local/lib/python3.10/dist-packages (from scikit-learn->pyvi) (1.4.0)\n",
            "Requirement already satisfied: threadpoolctl>=2.0.0 in /usr/local/lib/python3.10/dist-packages (from scikit-learn->pyvi) (3.4.0)\n",
            "Collecting python-crfsuite>=0.8.3 (from sklearn-crfsuite->pyvi)\n",
            "  Downloading python_crfsuite-0.9.10-cp310-cp310-manylinux_2_17_x86_64.manylinux2014_x86_64.whl (1.1 MB)\n",
            "\u001b[2K     \u001b[90m━━━━━━━━━━━━━━━━━━━━━━━━━━━━━━━━━━━━━━━━\u001b[0m \u001b[32m1.1/1.1 MB\u001b[0m \u001b[31m33.6 MB/s\u001b[0m eta \u001b[36m0:00:00\u001b[0m\n",
            "\u001b[?25hRequirement already satisfied: six in /usr/local/lib/python3.10/dist-packages (from sklearn-crfsuite->pyvi) (1.16.0)\n",
            "Requirement already satisfied: tabulate in /usr/local/lib/python3.10/dist-packages (from sklearn-crfsuite->pyvi) (0.9.0)\n",
            "Collecting pathlib-abc==0.1.1 (from pathy>=0.10.0->spacy<3.7.0,>=3.6.0->vi-core-news-lg==3.6.0)\n",
            "  Downloading pathlib_abc-0.1.1-py3-none-any.whl (23 kB)\n",
            "Requirement already satisfied: annotated-types>=0.4.0 in /usr/local/lib/python3.10/dist-packages (from pydantic!=1.8,!=1.8.1,<3.0.0,>=1.7.4->spacy<3.7.0,>=3.6.0->vi-core-news-lg==3.6.0) (0.6.0)\n",
            "Requirement already satisfied: pydantic-core==2.18.1 in /usr/local/lib/python3.10/dist-packages (from pydantic!=1.8,!=1.8.1,<3.0.0,>=1.7.4->spacy<3.7.0,>=3.6.0->vi-core-news-lg==3.6.0) (2.18.1)\n",
            "Requirement already satisfied: typing-extensions>=4.6.1 in /usr/local/lib/python3.10/dist-packages (from pydantic!=1.8,!=1.8.1,<3.0.0,>=1.7.4->spacy<3.7.0,>=3.6.0->vi-core-news-lg==3.6.0) (4.11.0)\n",
            "Requirement already satisfied: charset-normalizer<4,>=2 in /usr/local/lib/python3.10/dist-packages (from requests<3.0.0,>=2.13.0->spacy<3.7.0,>=3.6.0->vi-core-news-lg==3.6.0) (3.3.2)\n",
            "Requirement already satisfied: idna<4,>=2.5 in /usr/local/lib/python3.10/dist-packages (from requests<3.0.0,>=2.13.0->spacy<3.7.0,>=3.6.0->vi-core-news-lg==3.6.0) (3.7)\n",
            "Requirement already satisfied: urllib3<3,>=1.21.1 in /usr/local/lib/python3.10/dist-packages (from requests<3.0.0,>=2.13.0->spacy<3.7.0,>=3.6.0->vi-core-news-lg==3.6.0) (2.0.7)\n",
            "Requirement already satisfied: certifi>=2017.4.17 in /usr/local/lib/python3.10/dist-packages (from requests<3.0.0,>=2.13.0->spacy<3.7.0,>=3.6.0->vi-core-news-lg==3.6.0) (2024.2.2)\n",
            "Requirement already satisfied: blis<0.8.0,>=0.7.8 in /usr/local/lib/python3.10/dist-packages (from thinc<8.2.0,>=8.1.8->spacy<3.7.0,>=3.6.0->vi-core-news-lg==3.6.0) (0.7.11)\n",
            "Requirement already satisfied: confection<1.0.0,>=0.0.1 in /usr/local/lib/python3.10/dist-packages (from thinc<8.2.0,>=8.1.8->spacy<3.7.0,>=3.6.0->vi-core-news-lg==3.6.0) (0.1.4)\n",
            "Requirement already satisfied: click<9.0.0,>=7.1.1 in /usr/local/lib/python3.10/dist-packages (from typer<0.10.0,>=0.3.0->spacy<3.7.0,>=3.6.0->vi-core-news-lg==3.6.0) (8.1.7)\n",
            "Requirement already satisfied: MarkupSafe>=2.0 in /usr/local/lib/python3.10/dist-packages (from jinja2->spacy<3.7.0,>=3.6.0->vi-core-news-lg==3.6.0) (2.1.5)\n",
            "Building wheels for collected packages: vi-core-news-lg\n",
            "  Building wheel for vi-core-news-lg (setup.py) ... \u001b[?25l\u001b[?25hdone\n",
            "  Created wheel for vi-core-news-lg: filename=vi_core_news_lg-3.6.0-py3-none-any.whl size=233275662 sha256=4f9108c1aaa5f4d70c234595be5fbd3d97577ef2fa4626e10bfa19474d008657\n",
            "  Stored in directory: /root/.cache/pip/wheels/bd/c2/22/8dfcbf9006c1be9c5f38dda2e8608eddb2f46c933f174c7581\n",
            "Successfully built vi-core-news-lg\n",
            "Installing collected packages: python-crfsuite, sklearn-crfsuite, pathlib-abc, pathy, pyvi, thinc, spacy, vi-core-news-lg\n",
            "  Attempting uninstall: thinc\n",
            "    Found existing installation: thinc 8.2.3\n",
            "    Uninstalling thinc-8.2.3:\n",
            "      Successfully uninstalled thinc-8.2.3\n",
            "  Attempting uninstall: spacy\n",
            "    Found existing installation: spacy 3.7.4\n",
            "    Uninstalling spacy-3.7.4:\n",
            "      Successfully uninstalled spacy-3.7.4\n",
            "\u001b[31mERROR: pip's dependency resolver does not currently take into account all the packages that are installed. This behaviour is the source of the following dependency conflicts.\n",
            "en-core-web-sm 3.7.1 requires spacy<3.8.0,>=3.7.2, but you have spacy 3.6.1 which is incompatible.\u001b[0m\u001b[31m\n",
            "\u001b[0mSuccessfully installed pathlib-abc-0.1.1 pathy-0.11.0 python-crfsuite-0.9.10 pyvi-0.1.1 sklearn-crfsuite-0.3.6 spacy-3.6.1 thinc-8.1.12 vi-core-news-lg-3.6.0\n"
          ]
        }
      ]
    },
    {
      "cell_type": "markdown",
      "source": [
        "Clone github chứa các module cần thiết đã xây dựng dưới local."
      ],
      "metadata": {
        "id": "DlrlP_1IgAuW"
      }
    },
    {
      "cell_type": "code",
      "source": [
        "!rm -rf Vietnamese-Review-Classification\n",
        "!git clone https://github.com/Akechi1412/Vietnamese-Review-Classification\n",
        "%cd Vietnamese-Review-Classification\n",
        "!rm -f ./models/review_model.h5"
      ],
      "metadata": {
        "id": "9oeMZ-tHs6lN",
        "outputId": "81714886-f5b5-416d-ef26-dceac18d7eb3",
        "colab": {
          "base_uri": "https://localhost:8080/"
        }
      },
      "execution_count": 2,
      "outputs": [
        {
          "output_type": "stream",
          "name": "stdout",
          "text": [
            "Cloning into 'Vietnamese-Review-Classification'...\n",
            "remote: Enumerating objects: 136, done.\u001b[K\n",
            "remote: Counting objects: 100% (40/40), done.\u001b[K\n",
            "remote: Compressing objects: 100% (12/12), done.\u001b[K\n",
            "remote: Total 136 (delta 32), reused 29 (delta 28), pack-reused 96\u001b[K\n",
            "Receiving objects: 100% (136/136), 30.24 MiB | 17.70 MiB/s, done.\n",
            "Resolving deltas: 100% (68/68), done.\n",
            "/content/Vietnamese-Review-Classification\n"
          ]
        }
      ]
    },
    {
      "cell_type": "markdown",
      "source": [
        "Load dữ liệu đánh giá của người dùng đã thu thập được."
      ],
      "metadata": {
        "id": "bQPFitA3gIGC"
      }
    },
    {
      "cell_type": "code",
      "source": [
        "from utils.data_preparing import prepare_data\n",
        "from utils.plotter import plot_reviews_data\n",
        "\n",
        "x_data, y_data = prepare_data()\n",
        "\n",
        "print(f'Data size: {len(x_data)}')\n",
        "print(f'Max number of words: {len(max(x_data, key=len))}')\n",
        "print(x_data[0])\n",
        "print(y_data[0])\n",
        "\n",
        "plot_reviews_data(x_data)"
      ],
      "metadata": {
        "id": "1NGfiXZ48cpy",
        "outputId": "f5892752-c541-4f8d-b3ba-7e9005efb7d5",
        "colab": {
          "base_uri": "https://localhost:8080/",
          "height": 579
        }
      },
      "execution_count": 3,
      "outputs": [
        {
          "output_type": "stream",
          "name": "stdout",
          "text": [
            "Preparing data...\n",
            "Data size: 9000\n",
            "Max number of words: 476\n",
            "['đọc', 'cuốn', 'sách', 'tập', '1', 'mình', 'đã', 'nhận', 'ra', 'những', 'điều', 'thiếu sót', 'trong', 'quá trình', 'quản trị', 'doanh nghiệp', 'của', 'mình', 'chưa', 'có', 'tầm', 'nhìn', 'sứ mệnh', 'và', 'các', 'giá trị', 'cốt lõi', 'dẫn', 'đến', 'lúng túng', 'và', 'không thể', 'vận hành', 'doanh nghiệp', '1', 'cách', 'trơn tru', 'trong', 'sách', 'còn', 'có', 'nhiều', 'quà', 'tặng', 'đi', 'kèm', 'cực', 'giá trị', 'mình', 'đọc', 'mà', 'quên', 'cả', 'ăn', 'luôn', 'đúng', 'là', 'cuốn', 'sách', 'giá trị', 'trong', 'các', 'cuốn', 'sách', 'mình', 'đã', 'từng', 'đọc']\n",
            "0\n"
          ]
        },
        {
          "output_type": "display_data",
          "data": {
            "text/plain": [
              "<Figure size 640x480 with 1 Axes>"
            ],
            "image/png": "[encoded data removed]"
          },
          "metadata": {}
        }
      ]
    },
    {
      "cell_type": "markdown",
      "source": [
        "Nhận xét: Ta thấy số lượng từ của đánh giá người dùng phần lớp là từ 200 từ trở xuống, tập trung nhiều nhất là dưới 100 từ, vì vậy tiếp theo ta cần giới hạn số lượng từ cần xử lý tối đa là 200 từ để đảm bảo các danh sách từ của mỗi đánh giá là bằng nhau."
      ],
      "metadata": {
        "id": "G5Fqx64lgWbv"
      }
    },
    {
      "cell_type": "markdown",
      "source": [
        "Tách dữ liệu đã thu thập được thành 3 phần: tập train, tập validation và tập test theo tỉ lệ 4:1:1."
      ],
      "metadata": {
        "id": "wbFyZg4zgw6n"
      }
    },
    {
      "cell_type": "code",
      "source": [
        "from sklearn.model_selection import train_test_split\n",
        "\n",
        "# Split data into train, validation, and test sets\n",
        "x_train, x_temp, y_train, y_temp = train_test_split(x_data, y_data, test_size=1/3, random_state=42)\n",
        "x_val, x_test, y_val, y_test = train_test_split(x_temp, y_temp, test_size=0.5, random_state=42)\n",
        "\n",
        "print(len(x_train), len(y_train))\n",
        "print(len(x_val), len(y_val))\n",
        "print(len(x_test), len(y_test))"
      ],
      "metadata": {
        "id": "98Oce0Yh2bsd",
        "outputId": "d1c350cf-cfbc-4f88-fa2f-296ea55c3d96",
        "colab": {
          "base_uri": "https://localhost:8080/"
        }
      },
      "execution_count": 4,
      "outputs": [
        {
          "output_type": "stream",
          "name": "stdout",
          "text": [
            "6000 6000\n",
            "1500 1500\n",
            "1500 1500\n"
          ]
        }
      ]
    },
    {
      "cell_type": "markdown",
      "source": [
        "Chuyển đổi danh sách các từ thành các chuỗi số."
      ],
      "metadata": {
        "id": "to6zt8R_hGCP"
      }
    },
    {
      "cell_type": "code",
      "source": [
        "from keras.preprocessing.text import Tokenizer\n",
        "from keras.preprocessing.sequence import pad_sequences\n",
        "from keras.utils import to_categorical\n",
        "import pickle\n",
        "\n",
        "# Tokenize text data\n",
        "tokenizer = Tokenizer()\n",
        "tokenizer.fit_on_texts(x_train)\n",
        "\n",
        "x_train_seq = tokenizer.texts_to_sequences(x_train)\n",
        "x_val_seq = tokenizer.texts_to_sequences(x_val)\n",
        "x_test_seq = tokenizer.texts_to_sequences(x_test)\n",
        "\n",
        "# Save tokenize\n",
        "with open('./models/review_tokenizer.pkl', 'wb') as file:\n",
        "    pickle.dump(tokenizer, file)\n",
        "\n",
        "# Pad sequences to ensure uniform length\n",
        "max_len = 200\n",
        "x_train_pad = pad_sequences(x_train_seq, maxlen=max_len)\n",
        "x_val_pad = pad_sequences(x_val_seq, maxlen=max_len)\n",
        "x_test_pad = pad_sequences(x_test_seq, maxlen=max_len)\n",
        "\n",
        "print(f'({len(x_train_pad)}, {len(x_train_pad[0])})')\n",
        "print(f'({len(x_val_pad)}, {len(x_val_pad[0])})')\n",
        "print(f'({len(x_test_pad)}, {len(x_test_pad[0])})')\n",
        "\n",
        "# Create one hot\n",
        "y_train_one_hot = to_categorical(y_train, num_classes=3)\n",
        "y_val_one_hot = to_categorical(y_val, num_classes=3)\n",
        "y_test_one_hot = to_categorical(y_test, num_classes=3)"
      ],
      "metadata": {
        "id": "jXEWAMQw9Oz4",
        "outputId": "42445c6d-c149-4e58-88fa-812d3751620b",
        "colab": {
          "base_uri": "https://localhost:8080/"
        }
      },
      "execution_count": 6,
      "outputs": [
        {
          "output_type": "stream",
          "name": "stdout",
          "text": [
            "(6000, 200)\n",
            "(1500, 200)\n",
            "(1500, 200)\n"
          ]
        }
      ]
    },
    {
      "cell_type": "markdown",
      "source": [
        "Chuyển dữ liệu sang dạng numpy array."
      ],
      "metadata": {
        "id": "xBz-xJnLicDR"
      }
    },
    {
      "cell_type": "code",
      "source": [
        "import numpy as np\n",
        "\n",
        "x_train_pad = np.array(x_train_pad)\n",
        "x_val_pad = np.array(x_val_pad)\n",
        "x_test_pad = np.array(x_test_pad)\n",
        "\n",
        "y_train_one_hot = np.array(y_train_one_hot)\n",
        "y_val_one_hot = np.array(y_val_one_hot)\n",
        "y_test_one_hot = np.array(y_test_one_hot)"
      ],
      "metadata": {
        "id": "OpIU7BmXFFS3"
      },
      "execution_count": 7,
      "outputs": []
    },
    {
      "cell_type": "markdown",
      "source": [
        "Xây dựng và huấn luyện mô hình."
      ],
      "metadata": {
        "id": "6p-59vXnikf3"
      }
    },
    {
      "cell_type": "code",
      "source": [
        "from keras.models import Sequential\n",
        "from keras.layers import Embedding, LSTM, Dropout, Dense\n",
        "from keras.layers import SpatialDropout1D, Conv1D, MaxPooling1D, Bidirectional\n",
        "from keras.callbacks import ModelCheckpoint\n",
        "from keras import regularizers\n",
        "\n",
        "# Build RNN model\n",
        "model = Sequential()\n",
        "\n",
        "model.add(Embedding(input_dim=len(tokenizer.word_index)+1, output_dim=128, input_length=max_len))\n",
        "model.add(SpatialDropout1D(0.1))\n",
        "model.add(Conv1D(filters=64, kernel_size=3, padding='same', activation='relu'))\n",
        "model.add(MaxPooling1D(pool_size=2))\n",
        "model.add(Conv1D(filters=128, kernel_size=3, padding='same', activation='relu'))\n",
        "model.add(MaxPooling1D(pool_size=2))\n",
        "model.add(Bidirectional(LSTM(units=256, return_sequences=True)))\n",
        "model.add(Bidirectional(LSTM(units=128)))\n",
        "model.add(Dense(units=128, activation='relu', kernel_regularizer=regularizers.L2(1e-6)))\n",
        "model.add(Dropout(rate=0.2))\n",
        "model.add(Dense(units=64, activation='relu', kernel_regularizer=regularizers.L2(1e-6)))\n",
        "model.add(Dropout(rate=0.2))\n",
        "model.add(Dense(units=32, activation='relu', kernel_regularizer=regularizers.L2(1e-6)))\n",
        "model.add(Dropout(rate=0.2))\n",
        "model.add(Dense(units=16, activation='relu', kernel_regularizer=regularizers.L2(1e-6)))\n",
        "model.add(Dropout(rate=0.2))\n",
        "model.add(Dense(units=3, activation='softmax'))\n",
        "model.compile(loss='categorical_crossentropy', optimizer='adam', metrics=['accuracy'])\n",
        "model.summary()\n",
        "\n",
        "# Train and save the model,\n",
        "filepath = './models/review_model.h5'\n",
        "checkpoint = ModelCheckpoint(\n",
        "  filepath,\n",
        "  monitor='val_loss',\n",
        "  verbose=1,\n",
        "  save_best_only=True,\n",
        "  mode='min'\n",
        ")\n",
        "callbacks_list = [checkpoint]\n",
        "history = model.fit(\n",
        "  x_train_pad, y_train_one_hot,\n",
        "  batch_size=40,\n",
        "  epochs=10,\n",
        "  validation_data=(x_val_pad, y_val_one_hot),\n",
        "  callbacks=callbacks_list\n",
        ")"
      ],
      "metadata": {
        "id": "l-IaXf-p-PyE",
        "outputId": "466dec82-00b7-4513-f4b2-efd7c67f6446",
        "colab": {
          "base_uri": "https://localhost:8080/"
        }
      },
      "execution_count": null,
      "outputs": [
        {
          "output_type": "stream",
          "name": "stdout",
          "text": [
            "Model: \"sequential\"\n",
            "_________________________________________________________________\n",
            " Layer (type)                Output Shape              Param #   \n",
            "=================================================================\n",
            " embedding (Embedding)       (None, 200, 128)          978816    \n",
            "                                                                 \n",
            " spatial_dropout1d (Spatial  (None, 200, 128)          0         \n",
            " Dropout1D)                                                      \n",
            "                                                                 \n",
            " conv1d (Conv1D)             (None, 200, 64)           24640     \n",
            "                                                                 \n",
            " max_pooling1d (MaxPooling1  (None, 100, 64)           0         \n",
            " D)                                                              \n",
            "                                                                 \n",
            " conv1d_1 (Conv1D)           (None, 100, 128)          24704     \n",
            "                                                                 \n",
            " max_pooling1d_1 (MaxPoolin  (None, 50, 128)           0         \n",
            " g1D)                                                            \n",
            "                                                                 \n",
            " bidirectional (Bidirection  (None, 50, 512)           788480    \n",
            " al)                                                             \n",
            "                                                                 \n",
            " bidirectional_1 (Bidirecti  (None, 256)               656384    \n",
            " onal)                                                           \n",
            "                                                                 \n",
            " dense (Dense)               (None, 128)               32896     \n",
            "                                                                 \n",
            " dropout (Dropout)           (None, 128)               0         \n",
            "                                                                 \n",
            " dense_1 (Dense)             (None, 64)                8256      \n",
            "                                                                 \n",
            " dropout_1 (Dropout)         (None, 64)                0         \n",
            "                                                                 \n",
            " dense_2 (Dense)             (None, 32)                2080      \n",
            "                                                                 \n",
            " dropout_2 (Dropout)         (None, 32)                0         \n",
            "                                                                 \n",
            " dense_3 (Dense)             (None, 16)                528       \n",
            "                                                                 \n",
            " dropout_3 (Dropout)         (None, 16)                0         \n",
            "                                                                 \n",
            " dense_4 (Dense)             (None, 3)                 51        \n",
            "                                                                 \n",
            "=================================================================\n",
            "Total params: 2516835 (9.60 MB)\n",
            "Trainable params: 2516835 (9.60 MB)\n",
            "Non-trainable params: 0 (0.00 Byte)\n",
            "_________________________________________________________________\n",
            "Epoch 1/10\n",
            "150/150 [==============================] - ETA: 0s - loss: 0.8681 - accuracy: 0.6018\n",
            "Epoch 1: val_loss improved from inf to 0.58731, saving model to ./models/review_model.h5\n",
            "150/150 [==============================] - 156s 967ms/step - loss: 0.8681 - accuracy: 0.6018 - val_loss: 0.5873 - val_accuracy: 0.7960\n",
            "Epoch 2/10\n"
          ]
        },
        {
          "output_type": "stream",
          "name": "stderr",
          "text": [
            "/usr/local/lib/python3.10/dist-packages/keras/src/engine/training.py:3103: UserWarning: You are saving your model as an HDF5 file via `model.save()`. This file format is considered legacy. We recommend using instead the native Keras format, e.g. `model.save('my_model.keras')`.\n",
            "  saving_api.save_model(\n"
          ]
        },
        {
          "output_type": "stream",
          "name": "stdout",
          "text": [
            "150/150 [==============================] - ETA: 0s - loss: 0.5537 - accuracy: 0.8152\n",
            "Epoch 2: val_loss improved from 0.58731 to 0.55322, saving model to ./models/review_model.h5\n",
            "150/150 [==============================] - 131s 873ms/step - loss: 0.5537 - accuracy: 0.8152 - val_loss: 0.5532 - val_accuracy: 0.8100\n",
            "Epoch 3/10\n",
            "150/150 [==============================] - ETA: 0s - loss: 0.4233 - accuracy: 0.8427\n",
            "Epoch 3: val_loss improved from 0.55322 to 0.51102, saving model to ./models/review_model.h5\n",
            "150/150 [==============================] - 128s 856ms/step - loss: 0.4233 - accuracy: 0.8427 - val_loss: 0.5110 - val_accuracy: 0.8180\n",
            "Epoch 4/10\n",
            "150/150 [==============================] - ETA: 0s - loss: 0.3241 - accuracy: 0.8868\n",
            "Epoch 4: val_loss did not improve from 0.51102\n",
            "150/150 [==============================] - 130s 866ms/step - loss: 0.3241 - accuracy: 0.8868 - val_loss: 0.5614 - val_accuracy: 0.7900\n",
            "Epoch 5/10\n",
            "150/150 [==============================] - ETA: 0s - loss: 0.2611 - accuracy: 0.9112\n",
            "Epoch 5: val_loss did not improve from 0.51102\n",
            "150/150 [==============================] - 131s 877ms/step - loss: 0.2611 - accuracy: 0.9112 - val_loss: 0.6536 - val_accuracy: 0.7933\n",
            "Epoch 6/10\n",
            "150/150 [==============================] - ETA: 0s - loss: 0.2180 - accuracy: 0.9255\n",
            "Epoch 6: val_loss did not improve from 0.51102\n",
            "150/150 [==============================] - 132s 877ms/step - loss: 0.2180 - accuracy: 0.9255 - val_loss: 0.7544 - val_accuracy: 0.7773\n",
            "Epoch 7/10\n",
            "150/150 [==============================] - ETA: 0s - loss: 0.1712 - accuracy: 0.9515\n",
            "Epoch 7: val_loss did not improve from 0.51102\n",
            "150/150 [==============================] - 130s 866ms/step - loss: 0.1712 - accuracy: 0.9515 - val_loss: 0.8609 - val_accuracy: 0.7773\n",
            "Epoch 8/10\n",
            "150/150 [==============================] - ETA: 0s - loss: 0.1467 - accuracy: 0.9588\n",
            "Epoch 8: val_loss did not improve from 0.51102\n",
            "150/150 [==============================] - 125s 832ms/step - loss: 0.1467 - accuracy: 0.9588 - val_loss: 0.8600 - val_accuracy: 0.7713\n",
            "Epoch 9/10\n",
            "107/150 [====================>.........] - ETA: 34s - loss: 0.1131 - accuracy: 0.9699"
          ]
        }
      ]
    },
    {
      "cell_type": "markdown",
      "source": [
        "Vẽ lại đồ thị giá trị mất mát và độ chính xác của tập train và tập validation trong quá trình huấn luyện."
      ],
      "metadata": {
        "id": "xntuONwDir9o"
      }
    },
    {
      "cell_type": "code",
      "source": [
        "from utils.plotter import plot_history_model\n",
        "\n",
        "plot_history_model(history)"
      ],
      "metadata": {
        "id": "NHMwVrkcST8S"
      },
      "execution_count": null,
      "outputs": []
    },
    {
      "cell_type": "markdown",
      "source": [
        "Kiểm tra lại mô hình trên tập test."
      ],
      "metadata": {
        "id": "jcN-uClVi5Uc"
      }
    },
    {
      "cell_type": "code",
      "source": [
        "from sklearn.metrics import confusion_matrix\n",
        "\n",
        "score, acc = model.evaluate(x_test_pad, y_test_one_hot, batch_size=15, verbose=2)\n",
        "print('Test score:', score)\n",
        "print('Test accuracy:', acc)\n",
        "\n",
        "y_pred = model.predict(x_test_pad, batch_size=15)\n",
        "y_test_single = np.argmax(y_test_one_hot, axis=1)\n",
        "y_pred_single = np.argmax(y_pred, axis=1)\n",
        "conf_matrix = confusion_matrix(y_test_single, y_pred_single)\n",
        "print(\"Confusion Matrix:\")\n",
        "print(conf_matrix)"
      ],
      "metadata": {
        "id": "TYv335Hn7USf"
      },
      "execution_count": null,
      "outputs": []
    },
    {
      "cell_type": "markdown",
      "source": [
        "Nhận xét: accuracy của tập test sau khi áp dụng mô hình đã huấn luyện là không quá tệ, tuy nhiên nhìn cột thứ 3 của confusion matrix ta thấy các đánh giá trung tính có độ chính xác không cao, rất dễ dự đoán sai sang tích cực hoặc tiêu cực. Điều này xảy ra là do dữ liệu huấn luyện chưa đủ lớn, số lượng nhãn trung tính trong dữ liệu tương đối ít so với hai nhãn còn lại và sự khó khăn trong việc phân biệt giữa cảm xúc của một đánh giá phức tạp dẫn đến gắn nhãn sai."
      ],
      "metadata": {
        "id": "6Pkg64Sgi8-Q"
      }
    }
  ],
  "metadata": {
    "kernelspec": {
      "display_name": "Python 3",
      "name": "python3"
    },
    "language_info": {
      "name": "python",
      "version": "3.7.16"
    },
    "colab": {
      "provenance": [],
      "gpuType": "T4",
      "include_colab_link": true
    },
    "accelerator": "GPU"
  },
  "nbformat": 4,
  "nbformat_minor": 0
}